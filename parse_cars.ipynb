{
 "cells": [
  {
   "cell_type": "code",
   "execution_count": null,
   "id": "backed-package",
   "metadata": {},
   "outputs": [],
   "source": [
    "# for educational purposes only\n",
    "# საგანმანათლებლო მიზნებისთვის მხოლოდ"
   ]
  },
  {
   "cell_type": "code",
   "execution_count": 1,
   "id": "welsh-roots",
   "metadata": {},
   "outputs": [],
   "source": [
    "import requests\n",
    "from bs4 import BeautifulSoup\n",
    "import re\n",
    "import time"
   ]
  },
  {
   "cell_type": "code",
   "execution_count": 2,
   "id": "living-recycling",
   "metadata": {},
   "outputs": [],
   "source": [
    "links_file = 'links.txt'\n",
    "headers = {'User-Agent': 'Mozilla/5.0'} "
   ]
  },
  {
   "cell_type": "code",
   "execution_count": 3,
   "id": "changed-warrior",
   "metadata": {},
   "outputs": [],
   "source": [
    "with open(links_file) as f:\n",
    "    content = f.readlines()\n",
    "    car_link = [x.strip() for x in content]"
   ]
  },
  {
   "cell_type": "code",
   "execution_count": 4,
   "id": "smaller-tactics",
   "metadata": {},
   "outputs": [],
   "source": [
    "car_data = []"
   ]
  },
  {
   "cell_type": "code",
   "execution_count": 5,
   "id": "oriental-broadcast",
   "metadata": {},
   "outputs": [
    {
     "name": "stdout",
     "output_type": "stream",
     "text": [
      "Wall time: 10.9 s\n"
     ]
    }
   ],
   "source": [
    "%%time\n",
    "for link in car_link:\n",
    "    html = requests.get(link, headers=headers).content\n",
    "    soup = BeautifulSoup(html, \"html.parser\")\n",
    "    time.sleep(5)\n",
    "    \n",
    "    car_info = {}\n",
    "    \n",
    "    id_num = re.findall(\"[0-9]+\",soup.find('div',{'class':'go-to-mobile-ver'}).find('a').get('href')).pop()\n",
    "    location = soup.find('span',{'class':'location-text'}).get_text().strip()\n",
    "    car_info['carID'] = id_num\n",
    "    car_info['Location'] = location\n",
    "    \n",
    "    try:\n",
    "        for data in soup.findAll('th',{'class':'th-left'}):\n",
    "            cKey = data.find('div',{'class':'th-key'}).get_text().strip().replace(u'\\xa0', u' ')\n",
    "            cValue = re.sub(' +', ' ',data.find('div',{'class':'th-value'}).get_text().strip().replace(u'\\n', u' '))\n",
    "            car_info[cKey] = cValue\n",
    "    except:\n",
    "        pass\n",
    "    \n",
    "    try:\n",
    "        for data in soup.findAll('th',{'class':'th-right'}):\n",
    "            cKey = data.find('div',{'class':'th-key'}).get_text().strip()\n",
    "            cValue = data.find('div',{'class':'th-value'}).find('i').get('class')[1].split('-')[1]\n",
    "            car_info[cKey] = cValue\n",
    "    except:\n",
    "        pass\n",
    "    \n",
    "    car_data.append(car_info)"
   ]
  },
  {
   "cell_type": "code",
   "execution_count": 14,
   "id": "expired-rachel",
   "metadata": {},
   "outputs": [
    {
     "name": "stdout",
     "output_type": "stream",
     "text": [
      "{'ID': '49539317', 'Location': 'თბილისი', 'მწარმოებელი': 'MITSUBISHI', 'მოდელი': 'Pajero', 'გამოშვების წელი': '1995', 'კატეგორია': 'ჯიპი', 'საწვავის ტიპი': 'დიზელი', 'ძრავის მოცულობა': '2.8 ტურბო', 'გარბენი': '272500 კმ', 'ცილინდრები': '6', 'გადაცემათა კოლოფი': 'ავტომატიკა', 'წამყვანი თვლები': '4x4', 'კარები': '2/3', 'საჭე': 'მარცხნივ', 'ფერი': 'ლურჯი', 'სალონის ფერი': 'ნაცრისფერი', 'აირბეგი': '0', 'VIN': '', 'სალონის მასალა': 'ნაჭერი', 'ABS': 'minus', 'ელ. შუშები': 'check', 'კონდიციონერი': 'check', 'კლიმატკონტროლი': 'check', 'დისკები': 'check', 'ნავიგაცია': 'minus', 'ცენტრალური საკეტი': 'check', 'ლუქი': 'minus', 'სიგნალიზაცია': 'minus', 'ბორტკომპიუტერი': 'check', 'ჰიდრავლიკა': 'check', 'მოცურების საწინააღმდეგო': 'minus', 'სავარძლების გათბობა': 'minus', 'პარკინგკონტროლი': 'minus', 'უკანა ხედვის კამერა': 'minus', 'ტექ. დათვალიერება': 'check', 'კრუიზ კონტროლი': 'minus', 'სტარტ/სტოპ სისტემა': 'minus', 'სავარძლების მემორი': 'minus', 'სანისლე ფარები': 'check', 'AUX': 'minus', 'Bluetooth': 'minus', 'მულტი საჭე': 'minus', 'სათადარიგო საბურავი': 'check'}\n"
     ]
    }
   ],
   "source": [
    "print(car_data[0])"
   ]
  },
  {
   "cell_type": "code",
   "execution_count": null,
   "id": "mineral-lodging",
   "metadata": {},
   "outputs": [],
   "source": []
  }
 ],
 "metadata": {
  "kernelspec": {
   "display_name": "Python 3",
   "language": "python",
   "name": "python3"
  },
  "language_info": {
   "codemirror_mode": {
    "name": "ipython",
    "version": 3
   },
   "file_extension": ".py",
   "mimetype": "text/x-python",
   "name": "python",
   "nbconvert_exporter": "python",
   "pygments_lexer": "ipython3",
   "version": "3.9.1"
  }
 },
 "nbformat": 4,
 "nbformat_minor": 5
}
