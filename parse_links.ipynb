{
 "cells": [
  {
   "cell_type": "code",
   "execution_count": 1,
   "id": "biological-agent",
   "metadata": {},
   "outputs": [],
   "source": [
    "# for educational purposes only\n",
    "# საგანმანათლებლო მიზნებისთვის მხოლოდ"
   ]
  },
  {
   "cell_type": "code",
   "execution_count": 2,
   "id": "regulation-forestry",
   "metadata": {},
   "outputs": [],
   "source": [
    "import requests\n",
    "from bs4 import BeautifulSoup\n",
    "import re\n",
    "import time"
   ]
  },
  {
   "cell_type": "code",
   "execution_count": 3,
   "id": "finished-neutral",
   "metadata": {},
   "outputs": [],
   "source": [
    "# მხოლოდ: ავტომობილები, განბაჯებული, იყიდება\n",
    "links_url = \"https://www.myauto.ge/ka/s/0/0/00/00/00/00/00/00/iyideba-avtomobilebi?stype=0&for_rent=0&currency_id=3&customs_passed=1&det_search=0&ord=7&category_id=m0&keyword=&page=\""
   ]
  },
  {
   "cell_type": "code",
   "execution_count": 4,
   "id": "killing-repeat",
   "metadata": {},
   "outputs": [],
   "source": [
    "headers = {'User-Agent': 'Mozilla/5.0'} \n",
    "html = requests.get(links_url, headers=headers).content\n",
    "soup = BeautifulSoup(html)"
   ]
  },
  {
   "cell_type": "code",
   "execution_count": 5,
   "id": "cooked-acrobat",
   "metadata": {},
   "outputs": [],
   "source": [
    "cars_count = soup.find('div',{\"class\": \"sort-left-container\"}) # total cars\n",
    "cars_num = re.findall(\"[0-9]+\",str(cars_count.get_text())) # parse only nubmers\n",
    "page_num = int(int(cars_num.pop())/25) # divide total cars to 25 (25 cars per page), to int(incase float)"
   ]
  },
  {
   "cell_type": "code",
   "execution_count": 6,
   "id": "independent-barrier",
   "metadata": {},
   "outputs": [
    {
     "name": "stdout",
     "output_type": "stream",
     "text": [
      "Wall time: 10.5 s\n"
     ]
    }
   ],
   "source": [
    "%%time\n",
    "f = open(\"links.txt\", \"w\") # save links to file\n",
    "#for page in range(1,page_num) - from1 to total pages on site\n",
    "for page in range(1,5): # query from 1 page to 5 pages\n",
    "    time.sleep(2) # try not get ip banned.TODO: proxy\n",
    "    auto_pages = requests.get(links_url+str(page),headers=headers).content \n",
    "    soup = BeautifulSoup(auto_pages)\n",
    "    for data in soup.findAll('h4',{'itemprop':'name'}): # car link placeholder\n",
    "        for links in data.findAll('a'): # links\n",
    "            f.write(links.get('href')+\"\\n\") # link addr\n",
    "f.close()        \n",
    "# Wall time: 1h 5min 31s    "
   ]
  },
  {
   "cell_type": "code",
   "execution_count": null,
   "id": "unable-ancient",
   "metadata": {},
   "outputs": [],
   "source": []
  }
 ],
 "metadata": {
  "kernelspec": {
   "display_name": "Python 3",
   "language": "python",
   "name": "python3"
  },
  "language_info": {
   "codemirror_mode": {
    "name": "ipython",
    "version": 3
   },
   "file_extension": ".py",
   "mimetype": "text/x-python",
   "name": "python",
   "nbconvert_exporter": "python",
   "pygments_lexer": "ipython3",
   "version": "3.9.1"
  }
 },
 "nbformat": 4,
 "nbformat_minor": 5
}
