{
 "cells": [
  {
   "cell_type": "code",
   "execution_count": null,
   "id": "urban-accessory",
   "metadata": {},
   "outputs": [],
   "source": [
    "# for educational purposes only\n",
    "# საგანმანათლებლო მიზნებისთვის მხოლოდ"
   ]
  },
  {
   "cell_type": "code",
   "execution_count": 6,
   "id": "capital-closing",
   "metadata": {},
   "outputs": [],
   "source": [
    "import requests\n",
    "from bs4 import BeautifulSoup\n",
    "import re"
   ]
  },
  {
   "cell_type": "code",
   "execution_count": 7,
   "id": "otherwise-bacon",
   "metadata": {},
   "outputs": [],
   "source": [
    "car_url = 'cars.html'"
   ]
  },
  {
   "cell_type": "code",
   "execution_count": 8,
   "id": "insured-inventory",
   "metadata": {},
   "outputs": [],
   "source": [
    "#headers = {'User-Agent': 'Mozilla/5.0'} \n",
    "#html = requests.get(car_url, headers=headers).content\n",
    "soup = BeautifulSoup(open(car_url, encoding='utf8'), \"html.parser\")\n",
    "car_info = {}"
   ]
  },
  {
   "cell_type": "code",
   "execution_count": 9,
   "id": "funny-philip",
   "metadata": {},
   "outputs": [],
   "source": [
    "id_num = re.findall(\"[0-9]+\",soup.find('div',{'class':'go-to-mobile-ver'}).find('a').get('href')).pop()\n",
    "location = soup.find('span',{'class':'location-text'}).get_text().strip()\n",
    "car_info['ID'] = id_num\n",
    "car_info['Location'] = location\n"
   ]
  },
  {
   "cell_type": "code",
   "execution_count": 10,
   "id": "subject-natural",
   "metadata": {},
   "outputs": [],
   "source": [
    "try:\n",
    "    for data in soup.findAll('th',{'class':'th-left'}):\n",
    "        cKey = data.find('div',{'class':'th-key'}).get_text().strip()\n",
    "        cValue = data.find('div',{'class':'th-value'}).get_text().strip()\n",
    "        car_info[cKey] = cValue\n",
    "except:\n",
    "    pass"
   ]
  },
  {
   "cell_type": "code",
   "execution_count": 11,
   "id": "sudden-portugal",
   "metadata": {},
   "outputs": [],
   "source": [
    "try:\n",
    "    for data in soup.findAll('th',{'class':'th-right'}):\n",
    "        cKey = data.find('div',{'class':'th-key'}).get_text().strip()\n",
    "        cValue = data.find('div',{'class':'th-value'}).find('i').get('class')[1].split('-')[1]\n",
    "        car_info[cKey] = cValue\n",
    "except:\n",
    "    pass"
   ]
  },
  {
   "cell_type": "code",
   "execution_count": 12,
   "id": "freelance-sheriff",
   "metadata": {
    "scrolled": true
   },
   "outputs": [
    {
     "name": "stdout",
     "output_type": "stream",
     "text": [
      "{'ID': '49473575', 'Location': 'Tbilisi', 'Manufacturer': 'MITSUBISHI', 'Model': 'Delica', 'Prod. year': '2000', 'Category': 'Jeep', 'Fuel type': 'Petrol', 'Engine volume': '3.0', 'Mileage': '211000  km', 'Cylinders': '6', 'Gear box type': 'Automatic', 'Drive wheels': '4x4', 'Doors': '4/5', 'Wheel': 'Right-hand drive', 'Color': 'White', 'Interior color': 'Black', 'Airbags': '0', 'VIN': '', 'სალონის მასალა': 'Fabric', 'ABS': 'check', 'El. windows': 'check', 'Air conditioner': 'check', 'Climate control': 'minus', 'Rims': 'check', 'Navigation system': 'minus', 'Central lock': 'check', 'Hatch': 'minus', 'Alarm': 'minus', 'Board computer': 'minus', 'Hydraulics': 'check', 'Antiskid': 'check', 'Seat heater': 'minus', 'Parking control': 'minus', 'Rear view camera': 'minus', 'Technical inspection': 'check', '': 'minus'}\n"
     ]
    }
   ],
   "source": [
    "print(car_info)"
   ]
  }
 ],
 "metadata": {
  "kernelspec": {
   "display_name": "Python 3",
   "language": "python",
   "name": "python3"
  },
  "language_info": {
   "codemirror_mode": {
    "name": "ipython",
    "version": 3
   },
   "file_extension": ".py",
   "mimetype": "text/x-python",
   "name": "python",
   "nbconvert_exporter": "python",
   "pygments_lexer": "ipython3",
   "version": "3.9.1"
  }
 },
 "nbformat": 4,
 "nbformat_minor": 5
}
